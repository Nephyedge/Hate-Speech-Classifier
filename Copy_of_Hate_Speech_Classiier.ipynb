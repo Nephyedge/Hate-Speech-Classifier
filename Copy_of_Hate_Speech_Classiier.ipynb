{
  "nbformat": 4,
  "nbformat_minor": 0,
  "metadata": {
    "colab": {
      "provenance": []
    },
    "kernelspec": {
      "name": "python3",
      "display_name": "Python 3"
    },
    "language_info": {
      "name": "python"
    }
  },
  "cells": [
    {
      "cell_type": "code",
      "execution_count": null,
      "metadata": {
        "id": "IUZW_SQSxrkN"
      },
      "outputs": [],
      "source": [
        "import pandas as pd\n",
        "import nltk\n",
        "from nltk.tokenize import word_tokenize\n",
        "from nltk.corpus import stopwords\n",
        "from nltk.stem import PorterStemmer, WordNetLemmatizer\n",
        "from string import punctuation"
      ]
    },
    {
      "cell_type": "code",
      "source": [
        "# Download NLTK resources\n",
        "nltk.download('punkt')\n",
        "nltk.download('stopwords')\n",
        "nltk.download('wordnet')"
      ],
      "metadata": {
        "colab": {
          "base_uri": "https://localhost:8080/"
        },
        "id": "0U2UoqhDxvVx",
        "outputId": "3ef9a903-4069-4250-e156-78498ac6471d"
      },
      "execution_count": null,
      "outputs": [
        {
          "output_type": "stream",
          "name": "stderr",
          "text": [
            "[nltk_data] Downloading package punkt to /root/nltk_data...\n",
            "[nltk_data]   Unzipping tokenizers/punkt.zip.\n",
            "[nltk_data] Downloading package stopwords to /root/nltk_data...\n",
            "[nltk_data]   Unzipping corpora/stopwords.zip.\n",
            "[nltk_data] Downloading package wordnet to /root/nltk_data...\n"
          ]
        },
        {
          "output_type": "execute_result",
          "data": {
            "text/plain": [
              "True"
            ]
          },
          "metadata": {},
          "execution_count": 2
        }
      ]
    },
    {
      "cell_type": "code",
      "source": [
        "# Read the CSV file\n",
        "filepath='/content/HateSpeech_Kenya.csv'\n",
        "data = pd.read_csv(filepath)"
      ],
      "metadata": {
        "id": "GgSOmGB6xzwk"
      },
      "execution_count": null,
      "outputs": []
    },
    {
      "cell_type": "code",
      "source": [
        "# Specify the column containing text data\n",
        "text_column = 'Tweet'\n",
        "text_column"
      ],
      "metadata": {
        "colab": {
          "base_uri": "https://localhost:8080/",
          "height": 36
        },
        "id": "qMFcAXyhyRSL",
        "outputId": "2a19c9e9-ff31-484e-8860-17286a93cbeb"
      },
      "execution_count": null,
      "outputs": [
        {
          "output_type": "execute_result",
          "data": {
            "text/plain": [
              "'Tweet'"
            ],
            "application/vnd.google.colaboratory.intrinsic+json": {
              "type": "string"
            }
          },
          "metadata": {},
          "execution_count": 6
        }
      ]
    },
    {
      "cell_type": "code",
      "source": [
        "# Print original data head\n",
        "print(\"Original data head:\")\n",
        "print(data.head())"
      ],
      "metadata": {
        "colab": {
          "base_uri": "https://localhost:8080/"
        },
        "id": "pTVq4B9syUge",
        "outputId": "3f5983f1-62e1-47d5-f8a9-2ddbff13c5af"
      },
      "execution_count": null,
      "outputs": [
        {
          "output_type": "stream",
          "name": "stdout",
          "text": [
            "Original data head:\n",
            "   hate_speech  offensive_language  neither  Class  \\\n",
            "0            0                   0        3      0   \n",
            "1            0                   0        3      0   \n",
            "2            0                   0        3      0   \n",
            "3            0                   0        3      0   \n",
            "4            0                   0        3      0   \n",
            "\n",
            "                                               Tweet  \n",
            "0  ['The political elite are in desperation. Ordi...  \n",
            "1  [\"Am just curious the only people who are call...  \n",
            "2  ['USERNAME_3 the area politicians are the one ...  \n",
            "3  ['War expected in Nakuru if something is not d...  \n",
            "4  ['USERNAME_4 tells kikuyus activists that they...  \n"
          ]
        }
      ]
    },
    {
      "cell_type": "code",
      "source": [
        "# Handle NaN values\n",
        "data[text_column] = data[text_column].fillna('')"
      ],
      "metadata": {
        "id": "Ql8iRVmhyagc"
      },
      "execution_count": null,
      "outputs": []
    },
    {
      "cell_type": "code",
      "source": [
        "# Lowercasing\n",
        "data[text_column] = data[text_column].apply(lambda x: x.lower())\n",
        "print(\"\\nData after lowercasing:\")\n",
        "print(data.head())"
      ],
      "metadata": {
        "colab": {
          "base_uri": "https://localhost:8080/"
        },
        "id": "kCUe7FrsyWHk",
        "outputId": "3781dbde-8250-40f7-d013-134c45f7a06d"
      },
      "execution_count": null,
      "outputs": [
        {
          "output_type": "stream",
          "name": "stdout",
          "text": [
            "\n",
            "Data after lowercasing:\n",
            "   hate_speech  offensive_language  neither  Class  \\\n",
            "0            0                   0        3      0   \n",
            "1            0                   0        3      0   \n",
            "2            0                   0        3      0   \n",
            "3            0                   0        3      0   \n",
            "4            0                   0        3      0   \n",
            "\n",
            "                                               Tweet  \n",
            "0  ['the political elite are in desperation. ordi...  \n",
            "1  [\"am just curious the only people who are call...  \n",
            "2  ['username_3 the area politicians are the one ...  \n",
            "3  ['war expected in nakuru if something is not d...  \n",
            "4  ['username_4 tells kikuyus activists that they...  \n"
          ]
        }
      ]
    },
    {
      "cell_type": "code",
      "source": [
        "# Removing punctuations\n",
        "data[text_column] = data[text_column].apply(lambda x: ''.join([char for char in x if char not in punctuation]))\n",
        "print(\"\\nData after removing punctuations:\")\n",
        "print(data.head())"
      ],
      "metadata": {
        "colab": {
          "base_uri": "https://localhost:8080/"
        },
        "id": "0iB67xU8ydG7",
        "outputId": "ab88dcf2-d2a5-46a8-c09e-774be8754a04"
      },
      "execution_count": null,
      "outputs": [
        {
          "output_type": "stream",
          "name": "stdout",
          "text": [
            "\n",
            "Data after removing punctuations:\n",
            "   hate_speech  offensive_language  neither  Class  \\\n",
            "0            0                   0        3      0   \n",
            "1            0                   0        3      0   \n",
            "2            0                   0        3      0   \n",
            "3            0                   0        3      0   \n",
            "4            0                   0        3      0   \n",
            "\n",
            "                                               Tweet  \n",
            "0  the political elite are in desperation ordinar...  \n",
            "1  am just curious the only people who are callin...  \n",
            "2  username3 the area politicians are the one to ...  \n",
            "3  war expected in nakuru if something is not don...  \n",
            "4  username4 tells kikuyus activists that they ar...  \n"
          ]
        }
      ]
    },
    {
      "cell_type": "code",
      "source": [
        "# Tokenization\n",
        "data['tokens'] = data[text_column].apply(word_tokenize)\n",
        "print(\"\\nData after tokenization:\")\n",
        "print(data.head())"
      ],
      "metadata": {
        "colab": {
          "base_uri": "https://localhost:8080/"
        },
        "id": "Vo2wNrvFygu_",
        "outputId": "b916c008-4917-489c-e032-c61a2b8fa619"
      },
      "execution_count": null,
      "outputs": [
        {
          "output_type": "stream",
          "name": "stdout",
          "text": [
            "\n",
            "Data after tokenization:\n",
            "   hate_speech  offensive_language  neither  Class  \\\n",
            "0            0                   0        3      0   \n",
            "1            0                   0        3      0   \n",
            "2            0                   0        3      0   \n",
            "3            0                   0        3      0   \n",
            "4            0                   0        3      0   \n",
            "\n",
            "                                               Tweet  \\\n",
            "0  the political elite are in desperation ordinar...   \n",
            "1  am just curious the only people who are callin...   \n",
            "2  username3 the area politicians are the one to ...   \n",
            "3  war expected in nakuru if something is not don...   \n",
            "4  username4 tells kikuyus activists that they ar...   \n",
            "\n",
            "                                              tokens  \n",
            "0  [the, political, elite, are, in, desperation, ...  \n",
            "1  [am, just, curious, the, only, people, who, ar...  \n",
            "2  [username3, the, area, politicians, are, the, ...  \n",
            "3  [war, expected, in, nakuru, if, something, is,...  \n",
            "4  [username4, tells, kikuyus, activists, that, t...  \n"
          ]
        }
      ]
    },
    {
      "cell_type": "code",
      "source": [
        "# Removing stopwords\n",
        "stop_words = set(stopwords.words('english'))\n",
        "data['tokens'] = data['tokens'].apply(lambda x: [word for word in x if word not in stop_words])\n",
        "print(\"\\nData after removing stopwords:\")\n",
        "print(data.head())"
      ],
      "metadata": {
        "colab": {
          "base_uri": "https://localhost:8080/"
        },
        "id": "AwzsBL4nyfDu",
        "outputId": "13e8983d-54dd-4883-f5e3-5c3c75a1a8e4"
      },
      "execution_count": null,
      "outputs": [
        {
          "output_type": "stream",
          "name": "stdout",
          "text": [
            "\n",
            "Data after removing stopwords:\n",
            "   hate_speech  offensive_language  neither  Class  \\\n",
            "0            0                   0        3      0   \n",
            "1            0                   0        3      0   \n",
            "2            0                   0        3      0   \n",
            "3            0                   0        3      0   \n",
            "4            0                   0        3      0   \n",
            "\n",
            "                                               Tweet  \\\n",
            "0  the political elite are in desperation ordinar...   \n",
            "1  am just curious the only people who are callin...   \n",
            "2  username3 the area politicians are the one to ...   \n",
            "3  war expected in nakuru if something is not don...   \n",
            "4  username4 tells kikuyus activists that they ar...   \n",
            "\n",
            "                                              tokens  \n",
            "0  [political, elite, desperation, ordinary, kale...  \n",
            "1  [curious, people, calling, old, mad, kikuyus, ...  \n",
            "2  [username3, area, politicians, one, blame, coz...  \n",
            "3  [war, expected, nakuru, something, done, luos,...  \n",
            "4  [username4, tells, kikuyus, activists, targete...  \n"
          ]
        }
      ]
    },
    {
      "cell_type": "code",
      "source": [
        "# Stemming\n",
        "stemmer = PorterStemmer()\n",
        "data['stemmed'] = data['tokens'].apply(lambda x: [stemmer.stem(word) for word in x])\n",
        "print(\"\\nData after stemming:\")\n",
        "print(data.head())"
      ],
      "metadata": {
        "colab": {
          "base_uri": "https://localhost:8080/"
        },
        "id": "-CjdimYCyi99",
        "outputId": "b8068a44-3148-4e44-a4ad-fe8f6f607ddd"
      },
      "execution_count": null,
      "outputs": [
        {
          "output_type": "stream",
          "name": "stdout",
          "text": [
            "\n",
            "Data after stemming:\n",
            "   hate_speech  offensive_language  neither  Class  \\\n",
            "0            0                   0        3      0   \n",
            "1            0                   0        3      0   \n",
            "2            0                   0        3      0   \n",
            "3            0                   0        3      0   \n",
            "4            0                   0        3      0   \n",
            "\n",
            "                                               Tweet  \\\n",
            "0  the political elite are in desperation ordinar...   \n",
            "1  am just curious the only people who are callin...   \n",
            "2  username3 the area politicians are the one to ...   \n",
            "3  war expected in nakuru if something is not don...   \n",
            "4  username4 tells kikuyus activists that they ar...   \n",
            "\n",
            "                                              tokens  \\\n",
            "0  [political, elite, desperation, ordinary, kale...   \n",
            "1  [curious, people, calling, old, mad, kikuyus, ...   \n",
            "2  [username3, area, politicians, one, blame, coz...   \n",
            "3  [war, expected, nakuru, something, done, luos,...   \n",
            "4  [username4, tells, kikuyus, activists, targete...   \n",
            "\n",
            "                                             stemmed  \n",
            "0  [polit, elit, desper, ordinari, kalenjin, susp...  \n",
            "1  [curiou, peopl, call, old, mad, kikuyu, kalenj...  \n",
            "2  [username3, area, politician, one, blame, coz,...  \n",
            "3  [war, expect, nakuru, someth, done, luo, given...  \n",
            "4  [username4, tell, kikuyu, activist, target, ta...  \n"
          ]
        }
      ]
    },
    {
      "cell_type": "code",
      "source": [
        "# Lemmatization\n",
        "lemmatizer = WordNetLemmatizer()\n",
        "data['lemmatized'] = data['tokens'].apply(lambda x: [lemmatizer.lemmatize(word) for word in x])\n",
        "print(\"\\nData after lemmatization:\")\n",
        "print(data.head())"
      ],
      "metadata": {
        "colab": {
          "base_uri": "https://localhost:8080/"
        },
        "id": "-TQUXNnlylj8",
        "outputId": "f1c07105-7046-4e3d-ecce-079e02115d6a"
      },
      "execution_count": null,
      "outputs": [
        {
          "output_type": "stream",
          "name": "stdout",
          "text": [
            "\n",
            "Data after lemmatization:\n",
            "   hate_speech  offensive_language  neither  Class  \\\n",
            "0            0                   0        3      0   \n",
            "1            0                   0        3      0   \n",
            "2            0                   0        3      0   \n",
            "3            0                   0        3      0   \n",
            "4            0                   0        3      0   \n",
            "\n",
            "                                               Tweet  \\\n",
            "0  the political elite are in desperation ordinar...   \n",
            "1  am just curious the only people who are callin...   \n",
            "2  username3 the area politicians are the one to ...   \n",
            "3  war expected in nakuru if something is not don...   \n",
            "4  username4 tells kikuyus activists that they ar...   \n",
            "\n",
            "                                              tokens  \\\n",
            "0  [political, elite, desperation, ordinary, kale...   \n",
            "1  [curious, people, calling, old, mad, kikuyus, ...   \n",
            "2  [username3, area, politicians, one, blame, coz...   \n",
            "3  [war, expected, nakuru, something, done, luos,...   \n",
            "4  [username4, tells, kikuyus, activists, targete...   \n",
            "\n",
            "                                             stemmed  \\\n",
            "0  [polit, elit, desper, ordinari, kalenjin, susp...   \n",
            "1  [curiou, peopl, call, old, mad, kikuyu, kalenj...   \n",
            "2  [username3, area, politician, one, blame, coz,...   \n",
            "3  [war, expect, nakuru, someth, done, luo, given...   \n",
            "4  [username4, tell, kikuyu, activist, target, ta...   \n",
            "\n",
            "                                          lemmatized  \n",
            "0  [political, elite, desperation, ordinary, kale...  \n",
            "1  [curious, people, calling, old, mad, kikuyus, ...  \n",
            "2  [username3, area, politician, one, blame, coz,...  \n",
            "3  [war, expected, nakuru, something, done, luo, ...  \n",
            "4  [username4, tell, kikuyus, activist, targeted,...  \n"
          ]
        }
      ]
    },
    {
      "cell_type": "code",
      "source": [
        "# Removing duplicates\n",
        "data['cleaned_text'] = data['lemmatized'].apply(lambda x: ' '.join(x))\n",
        "data.drop_duplicates(subset='cleaned_text', inplace=True)\n",
        "print(\"\\nData after removing duplicates:\")\n",
        "print(data.head())"
      ],
      "metadata": {
        "colab": {
          "base_uri": "https://localhost:8080/"
        },
        "id": "i8H4cniRynpL",
        "outputId": "5cdc0f52-7784-463b-9900-04190460cbef"
      },
      "execution_count": null,
      "outputs": [
        {
          "output_type": "stream",
          "name": "stdout",
          "text": [
            "\n",
            "Data after removing duplicates:\n",
            "   hate_speech  offensive_language  neither  Class  \\\n",
            "0            0                   0        3      0   \n",
            "1            0                   0        3      0   \n",
            "2            0                   0        3      0   \n",
            "3            0                   0        3      0   \n",
            "4            0                   0        3      0   \n",
            "\n",
            "                                               Tweet  \\\n",
            "0  the political elite are in desperation ordinar...   \n",
            "1  am just curious the only people who are callin...   \n",
            "2  username3 the area politicians are the one to ...   \n",
            "3  war expected in nakuru if something is not don...   \n",
            "4  username4 tells kikuyus activists that they ar...   \n",
            "\n",
            "                                              tokens  \\\n",
            "0  [political, elite, desperation, ordinary, kale...   \n",
            "1  [curious, people, calling, old, mad, kikuyus, ...   \n",
            "2  [username3, area, politicians, one, blame, coz...   \n",
            "3  [war, expected, nakuru, something, done, luos,...   \n",
            "4  [username4, tells, kikuyus, activists, targete...   \n",
            "\n",
            "                                             stemmed  \\\n",
            "0  [polit, elit, desper, ordinari, kalenjin, susp...   \n",
            "1  [curiou, peopl, call, old, mad, kikuyu, kalenj...   \n",
            "2  [username3, area, politician, one, blame, coz,...   \n",
            "3  [war, expect, nakuru, someth, done, luo, given...   \n",
            "4  [username4, tell, kikuyu, activist, target, ta...   \n",
            "\n",
            "                                          lemmatized  \\\n",
            "0  [political, elite, desperation, ordinary, kale...   \n",
            "1  [curious, people, calling, old, mad, kikuyus, ...   \n",
            "2  [username3, area, politician, one, blame, coz,...   \n",
            "3  [war, expected, nakuru, something, done, luo, ...   \n",
            "4  [username4, tell, kikuyus, activist, targeted,...   \n",
            "\n",
            "                                        cleaned_text  \n",
            "0  political elite desperation ordinary kalenjins...  \n",
            "1  curious people calling old mad kikuyus kalenji...  \n",
            "2  username3 area politician one blame coz r insi...  \n",
            "3  war expected nakuru something done luo given s...  \n",
            "4  username4 tell kikuyus activist targeted targe...  \n"
          ]
        }
      ]
    },
    {
      "cell_type": "code",
      "source": [
        "import pandas as pd\n",
        "from sklearn.feature_extraction.text import TfidfVectorizer\n",
        "from sklearn.model_selection import train_test_split\n",
        "from sklearn.linear_model import LogisticRegression\n",
        "from sklearn.metrics import accuracy_score, classification_report, confusion_matrix\n",
        "import joblib\n",
        "\n",
        "data['label'] = data[['neither', 'offensive_language', 'hate_speech']].idxmax(axis=1)\n",
        "data['label'] = data['label'].map({'neither': 0, 'offensive_language': 1, 'hate_speech': 2})\n",
        "\n",
        "# Split the dataset into features (X) and labels (y)\n",
        "X = data['Tweet']\n",
        "y = data['label']\n",
        "# Split the dataset into training and testing sets\n",
        "X_train, X_test, y_train, y_test = train_test_split(X, y, test_size=0.2, random_state=42)\n",
        "\n",
        "# Drop rows with NaN values in y_train\n",
        "X_train = X_train.dropna()\n",
        "y_train =  y_train.loc[X_train.index]\n",
        "\n",
        "# Convert text data to numerical features using TF-IDF vectorization\n",
        "vectorizer = TfidfVectorizer(max_features=5000)\n",
        "X_train_vectorized = vectorizer.fit_transform(X_train)\n",
        "X_test_vectorized = vectorizer.transform(X_test)\n",
        "\n",
        "# Define and train the classification model\n",
        "model = LogisticRegression(max_iter=1000)\n",
        "model.fit(X_train_vectorized, y_train)\n",
        "\n",
        "# Evaluate the model\n",
        "y_pred = model.predict(X_test_vectorized)\n",
        "accuracy = accuracy_score(y_test, y_pred)\n",
        "print(\"Accuracy:\", accuracy)\n",
        "print(\"Classification Report:\")\n",
        "print(classification_report(y_test, y_pred))\n",
        "print(\"Confusion Matrix:\")\n",
        "print(confusion_matrix(y_test, y_pred))\n",
        "\n",
        "speech_text =input(str('enter speech: '))\n",
        "\n",
        "# Preprocess the speech text (similar to preprocessed  training data)\n",
        "# Tokenization, removing stopwords, etc.\n",
        "\n",
        "# Convert the preprocessed speech text into numerical features using the trained vectorizer\n",
        "X_speech_vectorized = vectorizer.transform([speech_text])\n",
        "\n",
        "# Predict the label for the speech\n",
        "predicted_label = model.predict(X_speech_vectorized)\n",
        "\n",
        "# Interpret the predicted label\n",
        "if predicted_label == 0:\n",
        "    print(\"The speech is not offensive.\")\n",
        "elif predicted_label == 1:\n",
        "    print(\"The speech contains offensive language.\")\n",
        "else:\n",
        "    print(\"The speech is classified as hate speech.\")\n"
      ],
      "metadata": {
        "colab": {
          "base_uri": "https://localhost:8080/"
        },
        "id": "0YNBiCMNyqFs",
        "outputId": "b52ecc9e-d381-4793-989a-2b044829fde6"
      },
      "execution_count": null,
      "outputs": [
        {
          "output_type": "stream",
          "name": "stdout",
          "text": [
            "Accuracy: 0.7650456884781011\n",
            "Classification Report:\n",
            "              precision    recall  f1-score   support\n",
            "\n",
            "           0       0.79      0.97      0.87      7227\n",
            "           1       0.45      0.13      0.20      1670\n",
            "           2       0.41      0.13      0.20       624\n",
            "\n",
            "    accuracy                           0.77      9521\n",
            "   macro avg       0.55      0.41      0.42      9521\n",
            "weighted avg       0.71      0.77      0.71      9521\n",
            "\n",
            "Confusion Matrix:\n",
            "[[6987  170   70]\n",
            " [1405  215   50]\n",
            " [ 453   89   82]]\n",
            "enter speech: John is good\n",
            "The speech is not offensive.\n"
          ]
        }
      ]
    },
    {
      "cell_type": "code",
      "source": [],
      "metadata": {
        "id": "gS5_Jqldy_-R"
      },
      "execution_count": null,
      "outputs": []
    }
  ]
}